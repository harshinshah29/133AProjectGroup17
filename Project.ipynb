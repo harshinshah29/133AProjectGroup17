{
 "cells": [
  {
   "cell_type": "code",
   "execution_count": 10,
   "metadata": {},
   "outputs": [
    {
     "name": "stdout",
     "output_type": "stream",
     "text": [
      "<class 'pandas.core.frame.DataFrame'>\n",
      "RangeIndex: 78290 entries, 0 to 78289\n",
      "Data columns (total 24 columns):\n",
      " #   Column                          Non-Null Count  Dtype  \n",
      "---  ------                          --------------  -----  \n",
      " 0   is_canceled                     78290 non-null  int64  \n",
      " 1   hotel                           78290 non-null  object \n",
      " 2   lead_time                       78290 non-null  int64  \n",
      " 3   arrival_date_month              78290 non-null  object \n",
      " 4   stays_in_weekend_nights         78290 non-null  int64  \n",
      " 5   stays_in_week_nights            78290 non-null  int64  \n",
      " 6   adults                          78290 non-null  int64  \n",
      " 7   children                        78287 non-null  float64\n",
      " 8   babies                          78290 non-null  int64  \n",
      " 9   meal                            78290 non-null  object \n",
      " 10  country                         78290 non-null  object \n",
      " 11  previous_cancellations          78290 non-null  int64  \n",
      " 12  previous_bookings_not_canceled  78290 non-null  int64  \n",
      " 13  reserved_room_type              78290 non-null  object \n",
      " 14  booking_changes                 78290 non-null  int64  \n",
      " 15  deposit_type                    78290 non-null  object \n",
      " 16  days_in_waiting_list            78290 non-null  int64  \n",
      " 17  customer_type                   78290 non-null  object \n",
      " 18  adr                             78290 non-null  float64\n",
      " 19  required_car_parking_spaces     78290 non-null  int64  \n",
      " 20  total_of_special_requests       78290 non-null  int64  \n",
      " 21  name                            78290 non-null  object \n",
      " 22  email                           78290 non-null  object \n",
      " 23  phone-number                    78290 non-null  object \n",
      "dtypes: float64(2), int64(12), object(10)\n",
      "memory usage: 14.3+ MB\n"
     ]
    }
   ],
   "source": [
    "import pandas as pd\n",
    "from sklearn.model_selection import train_test_split\n",
    "from sklearn.preprocessing import OneHotEncoder, StandardScaler\n",
    "from sklearn.impute import SimpleImputer\n",
    "df = pd.read_csv('datasets/hotel_booking.csv')\n",
    "df.info()"
   ]
  },
  {
   "cell_type": "code",
   "execution_count": 12,
   "metadata": {},
   "outputs": [],
   "source": [
    "#one hot encoding\n",
    "categorical_cols = ['hotel', 'arrival_date_month', 'meal', 'country', 'reserved_room_type', 'deposit_type', 'customer_type']\n",
    "ohe = OneHotEncoder(drop='first', sparse_output=False)\n",
    "df_encoded = pd.DataFrame(ohe.fit_transform(df[categorical_cols]))\n",
    "df_encoded.columns = ohe.get_feature_names_out(categorical_cols)\n",
    "df.drop(columns=categorical_cols, inplace=True)\n",
    "df = pd.concat([df, df_encoded], axis=1)"
   ]
  },
  {
   "cell_type": "code",
   "execution_count": 13,
   "metadata": {},
   "outputs": [],
   "source": [
    "#dropping unnecessary fields\n",
    "df = df.drop(columns=['name', 'email', 'phone-number'])"
   ]
  },
  {
   "cell_type": "code",
   "execution_count": 14,
   "metadata": {},
   "outputs": [],
   "source": [
    "#handling missing values\n",
    "df['children'].fillna(0, inplace=True)"
   ]
  },
  {
   "cell_type": "code",
   "execution_count": 15,
   "metadata": {},
   "outputs": [],
   "source": [
    "#augment features\n",
    "df['total_stay'] = df['stays_in_weekend_nights'] + df['stays_in_week_nights']\n",
    "\n",
    "df['total_guests'] = df['adults'] + df['children'] + df['babies']\n",
    "\n",
    "df['total_previous_bookings'] = df['previous_cancellations'] + df['previous_bookings_not_canceled']\n",
    "\n",
    "df['cancel_rate'] = df['previous_cancellations'] / df['total_previous_bookings']\n",
    "\n",
    "df['total_cost'] = df['adr'] / df['total_stay']\n",
    "\n",
    "df['adults_ratio'] = df['adults'] / df['total_guests']\n",
    "\n",
    "df['cars_to_guests'] = df['required_car_parking_spaces'] / df['total_guests']\n",
    "\n",
    "df['guests_to_cost'] = df['total_guests'] + df['total_cost']\n",
    "\n",
    "\n",
    "\n"
   ]
  },
  {
   "cell_type": "code",
   "execution_count": 16,
   "metadata": {},
   "outputs": [
    {
     "name": "stdout",
     "output_type": "stream",
     "text": [
      "<class 'pandas.core.frame.DataFrame'>\n",
      "RangeIndex: 78290 entries, 0 to 78289\n",
      "Data columns (total 56 columns):\n",
      " #   Column                          Non-Null Count  Dtype  \n",
      "---  ------                          --------------  -----  \n",
      " 0   is_canceled                     78290 non-null  int64  \n",
      " 1   lead_time                       78290 non-null  int64  \n",
      " 2   stays_in_weekend_nights         78290 non-null  int64  \n",
      " 3   stays_in_week_nights            78290 non-null  int64  \n",
      " 4   adults                          78290 non-null  int64  \n",
      " 5   children                        78290 non-null  float64\n",
      " 6   babies                          78290 non-null  int64  \n",
      " 7   previous_cancellations          78290 non-null  int64  \n",
      " 8   previous_bookings_not_canceled  78290 non-null  int64  \n",
      " 9   booking_changes                 78290 non-null  int64  \n",
      " 10  days_in_waiting_list            78290 non-null  int64  \n",
      " 11  adr                             78290 non-null  float64\n",
      " 12  required_car_parking_spaces     78290 non-null  int64  \n",
      " 13  total_of_special_requests       78290 non-null  int64  \n",
      " 14  hotel_Resort Hotel              78290 non-null  float64\n",
      " 15  arrival_date_month_August       78290 non-null  float64\n",
      " 16  arrival_date_month_December     78290 non-null  float64\n",
      " 17  arrival_date_month_February     78290 non-null  float64\n",
      " 18  arrival_date_month_January      78290 non-null  float64\n",
      " 19  arrival_date_month_July         78290 non-null  float64\n",
      " 20  arrival_date_month_June         78290 non-null  float64\n",
      " 21  arrival_date_month_March        78290 non-null  float64\n",
      " 22  arrival_date_month_May          78290 non-null  float64\n",
      " 23  arrival_date_month_November     78290 non-null  float64\n",
      " 24  arrival_date_month_October      78290 non-null  float64\n",
      " 25  arrival_date_month_September    78290 non-null  float64\n",
      " 26  meal_FB                         78290 non-null  float64\n",
      " 27  meal_HB                         78290 non-null  float64\n",
      " 28  meal_SC                         78290 non-null  float64\n",
      " 29  meal_Undefined                  78290 non-null  float64\n",
      " 30  country_ESP                     78290 non-null  float64\n",
      " 31  country_FRA                     78290 non-null  float64\n",
      " 32  country_GBR                     78290 non-null  float64\n",
      " 33  country_PRT                     78290 non-null  float64\n",
      " 34  reserved_room_type_B            78290 non-null  float64\n",
      " 35  reserved_room_type_C            78290 non-null  float64\n",
      " 36  reserved_room_type_D            78290 non-null  float64\n",
      " 37  reserved_room_type_E            78290 non-null  float64\n",
      " 38  reserved_room_type_F            78290 non-null  float64\n",
      " 39  reserved_room_type_G            78290 non-null  float64\n",
      " 40  reserved_room_type_H            78290 non-null  float64\n",
      " 41  reserved_room_type_L            78290 non-null  float64\n",
      " 42  reserved_room_type_P            78290 non-null  float64\n",
      " 43  deposit_type_Non Refund         78290 non-null  float64\n",
      " 44  deposit_type_Refundable         78290 non-null  float64\n",
      " 45  customer_type_Group             78290 non-null  float64\n",
      " 46  customer_type_Transient         78290 non-null  float64\n",
      " 47  customer_type_Transient-Party   78290 non-null  float64\n",
      " 48  total_stay                      78290 non-null  int64  \n",
      " 49  total_guests                    78290 non-null  float64\n",
      " 50  total_previous_bookings         78290 non-null  int64  \n",
      " 51  cancel_rate                     7959 non-null   float64\n",
      " 52  total_cost                      77709 non-null  float64\n",
      " 53  adults_ratio                    78166 non-null  float64\n",
      " 54  cars_to_guests                  78170 non-null  float64\n",
      " 55  guests_to_cost                  77709 non-null  float64\n",
      "dtypes: float64(42), int64(14)\n",
      "memory usage: 33.4 MB\n"
     ]
    }
   ],
   "source": [
    "df.info()"
   ]
  }
 ],
 "metadata": {
  "kernelspec": {
   "display_name": "Python 3",
   "language": "python",
   "name": "python3"
  },
  "language_info": {
   "codemirror_mode": {
    "name": "ipython",
    "version": 3
   },
   "file_extension": ".py",
   "mimetype": "text/x-python",
   "name": "python",
   "nbconvert_exporter": "python",
   "pygments_lexer": "ipython3",
   "version": "3.11.3"
  }
 },
 "nbformat": 4,
 "nbformat_minor": 2
}
